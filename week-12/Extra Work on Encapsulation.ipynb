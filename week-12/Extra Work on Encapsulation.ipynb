{
 "cells": [
  {
   "cell_type": "code",
   "execution_count": 2,
   "id": "4c95a7bc-6b6c-4c17-a25f-48856374d8b7",
   "metadata": {},
   "outputs": [
    {
     "name": "stdout",
     "output_type": "stream",
     "text": [
      "Vehicle 1:\n",
      "Make: Toyota\n",
      "Model: Camry\n",
      "Private Attributes: {'vin': '1HGCM82633A004352', 'owner': 'Alice', 'registration_number': 'ABC1234'}\n",
      "\n",
      "Vehicle 2:\n",
      "Make: Honda\n",
      "Model: Civic\n",
      "Private Attributes: {'vin': '2HGFB2F59FH123456', 'owner': 'Bob', 'registration_number': 'XYZ5678'}\n"
     ]
    }
   ],
   "source": [
    "class Vehicle:\n",
    "    def __init__(self, make, model, vin, owner, registration_number):\n",
    "        # Public instance variables\n",
    "        self.make = make\n",
    "        self.model = model\n",
    "\n",
    "        # Private instance variables\n",
    "        self.__vin = vin\n",
    "        self.__owner = owner\n",
    "        self.__registration_number = registration_number\n",
    "\n",
    "    def get_private_attributes(self):\n",
    "        return {\n",
    "            \"vin\": self.__vin,\n",
    "            \"owner\": self.__owner,\n",
    "            \"registration_number\": self.__registration_number\n",
    "        }\n",
    "\n",
    "\n",
    "# Creating two objects of the class\n",
    "vehicle1 = Vehicle(\"Toyota\", \"Camry\", \"1HGCM82633A004352\", \"Alice\", \"ABC1234\")\n",
    "vehicle2 = Vehicle(\"Honda\", \"Civic\", \"2HGFB2F59FH123456\", \"Bob\", \"XYZ5678\")\n",
    "\n",
    "# Displaying all attributes of vehicle1\n",
    "print(\"Vehicle 1:\")\n",
    "print(\"Make:\", vehicle1.make)\n",
    "print(\"Model:\", vehicle1.model)\n",
    "print(\"Private Attributes:\", vehicle1.get_private_attributes())\n",
    "\n",
    "# Displaying all attributes of vehicle2\n",
    "print(\"\\nVehicle 2:\")\n",
    "print(\"Make:\", vehicle2.make)\n",
    "print(\"Model:\", vehicle2.model)\n",
    "print(\"Private Attributes:\", vehicle2.get_private_attributes())\n"
   ]
  },
  {
   "cell_type": "code",
   "execution_count": null,
   "id": "bb53db05-ad1a-47c4-9277-35eb88f9a230",
   "metadata": {},
   "outputs": [],
   "source": []
  }
 ],
 "metadata": {
  "kernelspec": {
   "display_name": "Python [conda env:base] *",
   "language": "python",
   "name": "conda-base-py"
  },
  "language_info": {
   "codemirror_mode": {
    "name": "ipython",
    "version": 3
   },
   "file_extension": ".py",
   "mimetype": "text/x-python",
   "name": "python",
   "nbconvert_exporter": "python",
   "pygments_lexer": "ipython3",
   "version": "3.12.7"
  }
 },
 "nbformat": 4,
 "nbformat_minor": 5
}
