{
 "cells": [
  {
   "cell_type": "code",
   "execution_count": null,
   "id": "f10d61d5-8897-4dbb-a4c5-3b587776af5b",
   "metadata": {},
   "outputs": [],
   "source": [
    "import tkinter as tk\n",
    "from tkinter import messagebox\n",
    "\n",
    "# Sample data to simulate the GIG-logistics.csv file\n",
    "employees = [\n",
    "    {\"name\": \"Alice Johnson\", \"department\": \"Logistics\"},\n",
    "    {\"name\": \"Bob Smith\", \"department\": \"IT\"},\n",
    "    {\"name\": \"Charlie Adams\", \"department\": \"Logistics\"},\n",
    "    {\"name\": \"Diana Okoro\", \"department\": \"HR\"},\n",
    "    {\"name\": \"Emeka Obi\", \"department\": \"IT\"},\n",
    "    {\"name\": \"Femi Adebayo\", \"department\": \"Logistics\"},\n",
    "    {\"name\": \"Grace Eze\", \"department\": \"HR\"}\n",
    "]\n",
    "\n",
    "# Function to verify employee\n",
    "def verify_employee():\n",
    "    name = name_entry.get().strip()\n",
    "    dept = department_entry.get().strip()\n",
    "\n",
    "    matched_employee = None\n",
    "    for emp in employees:\n",
    "        if emp[\"name\"].lower() == name.lower() and emp[\"department\"].lower() == dept.lower():\n",
    "            matched_employee = emp\n",
    "            break\n",
    "\n",
    "    if matched_employee:\n",
    "        # Get colleagues in the same department excluding the matched employee\n",
    "        colleagues = [emp[\"name\"] for emp in employees if emp[\"department\"].lower() == dept.lower() and emp[\"name\"].lower() != name.lower()]\n",
    "        message = f\"Welcome {matched_employee['name']}!\\n\\nOther members of {dept} department:\\n\" + \"\\n\".join(colleagues)\n",
    "        messagebox.showinfo(\"Employee Found\", message)\n",
    "    else:\n",
    "        messagebox.showwarning(\"Not Found\", \"Sorry, no such employee found in that department.\")\n",
    "\n",
    "# GUI Setup\n",
    "root = tk.Tk()\n",
    "root.title(\"GIG Logistics Employee Checker\")\n",
    "\n",
    "tk.Label(root, text=\"Enter your full name:\").grid(row=0, column=0, padx=10, pady=10)\n",
    "name_entry = tk.Entry(root, width=40)\n",
    "name_entry.grid(row=0, column=1, padx=10)\n",
    "\n",
    "tk.Label(root, text=\"Enter your department:\").grid(row=1, column=0, padx=10, pady=10)\n",
    "department_entry = tk.Entry(root, width=40)\n",
    "department_entry.grid(row=1, column=1, padx=10)\n",
    "\n",
    "check_button = tk.Button(root, text=\"Verify\", command=verify_employee)\n",
    "check_button.grid(row=2, column=0, columnspan=2, pady=20)\n",
    "\n",
    "root.mainloop()\n"
   ]
  },
  {
   "cell_type": "code",
   "execution_count": null,
   "id": "c24ecafd-baf4-4568-8080-49e7ab8d7f4c",
   "metadata": {},
   "outputs": [],
   "source": []
  }
 ],
 "metadata": {
  "kernelspec": {
   "display_name": "Python [conda env:base] *",
   "language": "python",
   "name": "conda-base-py"
  },
  "language_info": {
   "codemirror_mode": {
    "name": "ipython",
    "version": 3
   },
   "file_extension": ".py",
   "mimetype": "text/x-python",
   "name": "python",
   "nbconvert_exporter": "python",
   "pygments_lexer": "ipython3",
   "version": "3.12.7"
  }
 },
 "nbformat": 4,
 "nbformat_minor": 5
}
