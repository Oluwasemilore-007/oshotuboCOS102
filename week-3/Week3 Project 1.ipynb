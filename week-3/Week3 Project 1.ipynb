{
 "cells": [
  {
   "cell_type": "code",
   "execution_count": 1,
   "id": "aa88431c-6953-4e86-86ed-96defdb9bcb8",
   "metadata": {},
   "outputs": [
    {
     "name": "stdout",
     "output_type": "stream",
     "text": [
      "       Name  Age  Height  Score\n",
      "0    Evelyn   17     5.5     80\n",
      "1   Jessica   16     6.0     85\n",
      "2     Somto   17     5.4     70\n",
      "3     Edith   18     5.9     60\n",
      "4      Liza   16     5.6     76\n",
      "5   Madonna   18     5.5     66\n",
      "6      Waje   17     6.1     87\n",
      "7      Tola   20     6.0     95\n",
      "8     Aisha   19     5.7     50\n",
      "9    Latifa   17     5.5     49\n",
      "10  Chinedu   19     5.7     74\n",
      "11     Liam   16     5.9     87\n",
      "12     Wale   18     5.8     75\n",
      "13   Gbenga   17     6.1     68\n",
      "14   Abiola   20     5.9     66\n",
      "15     Kola   19     5.5     78\n",
      "16    Kunle   16     6.1     87\n",
      "17   George   18     5.4     98\n",
      "18   Thomas   17     5.8     54\n",
      "19   Wesley   19     5.7     60\n"
     ]
    },
    {
     "data": {
      "text/plain": [
       "\"\\nAlgorithm:\\n1. Define separate lists for girls and boys containing tuples with (Name, Age, Height, Score).\\n2. Merge both lists into a single list called 'students'.\\n3. Use pandas to create a DataFrame from the 'students' list.\\n4. Display the DataFrame in a tabular format.\\n\""
      ]
     },
     "execution_count": 1,
     "metadata": {},
     "output_type": "execute_result"
    }
   ],
   "source": [
    "import pandas as pd\n",
    "\n",
    "# Step 1: Define student data\n",
    "girls = [\n",
    "    (\"Evelyn\", 17, 5.5, 80), (\"Jessica\", 16, 6.0, 85), (\"Somto\", 17, 5.4, 70), (\"Edith\", 18, 5.9, 60),\n",
    "    (\"Liza\", 16, 5.6, 76), (\"Madonna\", 18, 5.5, 66), (\"Waje\", 17, 6.1, 87), (\"Tola\", 20, 6.0, 95),\n",
    "    (\"Aisha\", 19, 5.7, 50), (\"Latifa\", 17, 5.5, 49)\n",
    "]\n",
    "\n",
    "boys = [\n",
    "    (\"Chinedu\", 19, 5.7, 74), (\"Liam\", 16, 5.9, 87), (\"Wale\", 18, 5.8, 75), (\"Gbenga\", 17, 6.1, 68),\n",
    "    (\"Abiola\", 20, 5.9, 66), (\"Kola\", 19, 5.5, 78), (\"Kunle\", 16, 6.1, 87), (\"George\", 18, 5.4, 98),\n",
    "    (\"Thomas\", 17, 5.8, 54), (\"Wesley\", 19, 5.7, 60)\n",
    "]\n",
    "\n",
    "# Step 2: Combine data\n",
    "students = girls + boys\n",
    "\n",
    "# Step 3: Create DataFrame\n",
    "df = pd.DataFrame(students, columns=[\"Name\", \"Age\", \"Height\", \"Score\"])\n",
    "\n",
    "# Step 4: Display table\n",
    "print(df)\n",
    "\n",
    "\"\"\"\n",
    "Algorithm:\n",
    "1. Define separate lists for girls and boys containing tuples with (Name, Age, Height, Score).\n",
    "2. Merge both lists into a single list called 'students'.\n",
    "3. Use pandas to create a DataFrame from the 'students' list.\n",
    "4. Display the DataFrame in a tabular format.\n",
    "\"\"\"\n"
   ]
  },
  {
   "cell_type": "code",
   "execution_count": null,
   "id": "33f5be8f-3cbf-4172-9a29-b1748453b9c8",
   "metadata": {},
   "outputs": [],
   "source": []
  }
 ],
 "metadata": {
  "kernelspec": {
   "display_name": "Python [conda env:base] *",
   "language": "python",
   "name": "conda-base-py"
  },
  "language_info": {
   "codemirror_mode": {
    "name": "ipython",
    "version": 3
   },
   "file_extension": ".py",
   "mimetype": "text/x-python",
   "name": "python",
   "nbconvert_exporter": "python",
   "pygments_lexer": "ipython3",
   "version": "3.12.7"
  }
 },
 "nbformat": 4,
 "nbformat_minor": 5
}
