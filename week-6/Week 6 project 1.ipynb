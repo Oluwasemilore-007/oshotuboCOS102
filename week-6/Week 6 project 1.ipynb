{
 "cells": [
  {
   "cell_type": "code",
   "execution_count": null,
   "id": "5ad9412c-abf6-468b-b9e9-c82ef29a2c50",
   "metadata": {},
   "outputs": [],
   "source": [
    "import tkinter as tk\n",
    "from tkinter import messagebox\n",
    "\n",
    "def calculate_charge():\n",
    "    try:\n",
    "        weight = float(weight_entry.get())\n",
    "        location = location_var.get()\n",
    "\n",
    "        if location == \"Ibeju-Lekki\":\n",
    "            if weight >= 10:\n",
    "                cost = 5000\n",
    "            else:\n",
    "                cost = 3500\n",
    "        elif location == \"Epe\":\n",
    "            if weight >= 10:\n",
    "                cost = 10000\n",
    "            else:\n",
    "                cost = 5000\n",
    "        else:\n",
    "            messagebox.showerror(\"Error\", \"Please select a valid location.\")\n",
    "            return\n",
    "\n",
    "        result_label.config(text=f\"Delivery Cost: ₦{cost}\")\n",
    "    except ValueError:\n",
    "        messagebox.showerror(\"Invalid input\", \"Please enter a valid weight.\")\n",
    "\n",
    "# GUI setup\n",
    "root = tk.Tk()\n",
    "root.title(\"Simi Services Delivery Calculator\")\n",
    "root.geometry(\"400x300\")\n",
    "\n",
    "# Welcome Message\n",
    "tk.Label(root, text=\"Welcome to Simi Services!\", font=(\"Helvetica\", 16, \"bold\"), fg=\"green\").pack(pady=10)\n",
    "\n",
    "# Location input\n",
    "tk.Label(root, text=\"Select Location:\").pack(pady=5)\n",
    "location_var = tk.StringVar(value=\"Ibeju-Lekki\")\n",
    "tk.OptionMenu(root, location_var, \"Ibeju-Lekki\", \"Epe\").pack()\n",
    "\n",
    "# Weight input\n",
    "tk.Label(root, text=\"Enter Package Weight (kg):\").pack(pady=5)\n",
    "weight_entry = tk.Entry(root)\n",
    "weight_entry.pack()\n",
    "\n",
    "# Calculate button\n",
    "tk.Button(root, text=\"Calculate Charge\", command=calculate_charge).pack(pady=10)\n",
    "\n",
    "# Result label\n",
    "result_label = tk.Label(root, text=\"\", font=(\"Helvetica\", 14))\n",
    "result_label.pack()\n",
    "\n",
    "root.mainloop()\n"
   ]
  },
  {
   "cell_type": "code",
   "execution_count": null,
   "id": "6d5710fb-f91f-45e9-8d75-2c8b08df6f00",
   "metadata": {},
   "outputs": [],
   "source": []
  }
 ],
 "metadata": {
  "kernelspec": {
   "display_name": "Python [conda env:base] *",
   "language": "python",
   "name": "conda-base-py"
  },
  "language_info": {
   "codemirror_mode": {
    "name": "ipython",
    "version": 3
   },
   "file_extension": ".py",
   "mimetype": "text/x-python",
   "name": "python",
   "nbconvert_exporter": "python",
   "pygments_lexer": "ipython3",
   "version": "3.12.7"
  }
 },
 "nbformat": 4,
 "nbformat_minor": 5
}
